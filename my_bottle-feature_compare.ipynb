{
 "cells": [
  {
   "cell_type": "code",
   "execution_count": 1,
   "metadata": {},
   "outputs": [],
   "source": [
    "import tensorflow as tf\n",
    "import numpy as np\n",
    "import tensorflow_hub as hub\n",
    "import os\n",
    "import re\n",
    "import csv\n",
    "import matplotlib.pyplot as plt\n",
    "%matplotlib inline"
   ]
  },
  {
   "cell_type": "code",
   "execution_count": 2,
   "metadata": {},
   "outputs": [],
   "source": [
    "def parse_function(filename):\n",
    "    image_string = tf.read_file(filename)\n",
    "    image = tf.image.decode_jpeg(image_string, channels=3)\n",
    "    image = tf.image.resize_images(image, [224, 224])\n",
    "    return image"
   ]
  },
  {
   "cell_type": "code",
   "execution_count": 24,
   "metadata": {},
   "outputs": [],
   "source": []
  },
  {
   "cell_type": "code",
   "execution_count": 3,
   "metadata": {},
   "outputs": [],
   "source": [
    "def get_filenames(home_path, subfolder):\n",
    "    sub=subfolder\n",
    "    d=os.path.join(home_path,sub)\n",
    "    filenames = [os.path.join(d,i) for i in os.listdir(d)]\n",
    "    filenames = sorted(filter(lambda x: (((x).split('.')[1] == \"jpg\")),filenames))\n",
    "    return filenames"
   ]
  },
  {
   "cell_type": "code",
   "execution_count": 4,
   "metadata": {},
   "outputs": [],
   "source": [
    "\n",
    "def get_feature_vectores(filenames):\n",
    "\n",
    "    x = len(filenames)\n",
    "\n",
    "    dataset = tf.data.Dataset.from_tensor_slices(filenames)\n",
    "    dataset = dataset.map(parse_function, num_parallel_calls=4)\n",
    "    iterator = dataset.make_one_shot_iterator()\n",
    "    next_element = iterator.get_next()\n",
    "\n",
    "    module = hub.Module(\"https://tfhub.dev/google/imagenet/mobilenet_v2_100_224/feature_vector/2\")\n",
    "    height, width = hub.get_expected_image_size(module)\n",
    "\n",
    "    init = ([tf.global_variables_initializer(), tf.local_variables_initializer()])\n",
    "    l=[]\n",
    "    with tf.Session() as sess:\n",
    "        sess.run(init)\n",
    "\n",
    "        for i in range(x):\n",
    "            value = sess.run(next_element)\n",
    "            #print value\n",
    "            value = tf.reshape(value,[-1,224,224,3])\n",
    "            feature_vectors = module(value)\n",
    "            value2 = sess.run(feature_vectors)\n",
    "            l.append(value2)\n",
    "            print value2\n",
    "    l = np.asarray(l)\n",
    "    return l\n"
   ]
  },
  {
   "cell_type": "code",
   "execution_count": 18,
   "metadata": {},
   "outputs": [],
   "source": [
    "def write_csv(filenames, file_path, l):\n",
    "    x = len(filenames)\n",
    "\n",
    "    f = open(file_path, mode='a')        \n",
    "    fwriter = csv.writer(f, delimiter=',', quotechar='\"', quoting=csv.QUOTE_MINIMAL)\n",
    "    for i in range(x):\n",
    "        tmp=list(np.squeeze(l[i]))\n",
    "        row=[[filenames[i]]+tmp]\n",
    "        fwriter.writerow(row)\n",
    "    f.close()"
   ]
  },
  {
   "cell_type": "code",
   "execution_count": 6,
   "metadata": {},
   "outputs": [],
   "source": [
    "HOME_PATH = \"/home/whiterab22bit/crop_filter/\"\n",
    "filePath_p1 = \"/home/whiterab22bit/feature_vectors_p1.csv\"\n",
    "filePath_p2 = \"/home/whiterab22bit/feature_vectors_p2.csv\"\n",
    "filePath_p3 = \"/home/whiterab22bit/feature_vectors_p3.csv\""
   ]
  },
  {
   "cell_type": "code",
   "execution_count": 8,
   "metadata": {},
   "outputs": [
    {
     "name": "stdout",
     "output_type": "stream",
     "text": [
      "INFO:tensorflow:Using /tmp/tfhub_modules to cache modules.\n",
      "INFO:tensorflow:Saver not created because there are no variables in the graph to restore\n",
      "[[0.09514919 1.8529602  0.32097957 ... 0.24997228 0.         0.96648735]]\n",
      "INFO:tensorflow:Saver not created because there are no variables in the graph to restore\n",
      "[[0.06877731 1.537077   0.02456312 ... 0.2873636  0.         0.8750261 ]]\n",
      "INFO:tensorflow:Saver not created because there are no variables in the graph to restore\n",
      "[[0.10829826 1.6564211  0.         ... 0.         0.         0.7380834 ]]\n",
      "INFO:tensorflow:Saver not created because there are no variables in the graph to restore\n",
      "[[0.         1.7384914  0.07437179 ... 0.01469555 0.         0.965214  ]]\n",
      "INFO:tensorflow:Saver not created because there are no variables in the graph to restore\n",
      "[[0.6360311 2.0839598 0.        ... 0.        0.        1.2135596]]\n",
      "INFO:tensorflow:Saver not created because there are no variables in the graph to restore\n",
      "[[0.49041596 1.8609155  0.18963711 ... 0.01877408 0.         0.7286337 ]]\n",
      "INFO:tensorflow:Saver not created because there are no variables in the graph to restore\n",
      "[[0.01156155 1.5587085  0.02054119 ... 0.         0.         1.1224517 ]]\n",
      "INFO:tensorflow:Saver not created because there are no variables in the graph to restore\n",
      "[[0.         1.6975048  0.2310847  ... 0.02157519 0.         0.7277544 ]]\n",
      "INFO:tensorflow:Saver not created because there are no variables in the graph to restore\n",
      "[[0.01572741 2.6226473  0.48008618 ... 0.         0.         0.8171705 ]]\n",
      "INFO:tensorflow:Saver not created because there are no variables in the graph to restore\n",
      "[[0.09059928 1.3686858  0.         ... 0.04302074 0.         0.44466472]]\n",
      "INFO:tensorflow:Saver not created because there are no variables in the graph to restore\n",
      "[[0.         1.6352993  0.39180595 ... 0.2738968  0.         0.6674752 ]]\n",
      "INFO:tensorflow:Saver not created because there are no variables in the graph to restore\n",
      "[[0.         1.1469835  0.         ... 0.1857523  0.         0.36205035]]\n",
      "INFO:tensorflow:Saver not created because there are no variables in the graph to restore\n",
      "[[0.         1.8757553  0.09076618 ... 0.07203383 0.         0.12605979]]\n",
      "INFO:tensorflow:Saver not created because there are no variables in the graph to restore\n",
      "[[0.         2.5431278  0.02196969 ... 0.03630562 0.01587262 0.71351236]]\n",
      "INFO:tensorflow:Saver not created because there are no variables in the graph to restore\n",
      "[[0.         0.9809059  0.12840746 ... 0.         0.         1.2822572 ]]\n"
     ]
    }
   ],
   "source": [
    "#person1\n",
    "\n",
    "filenames1 = get_filenames(HOME_PATH, 'p1')\n",
    "\n",
    "l1 = get_feature_vectores(filenames1)\n"
   ]
  },
  {
   "cell_type": "code",
   "execution_count": 19,
   "metadata": {},
   "outputs": [],
   "source": [
    "write_csv(filenames1, filePath_p1, l1)"
   ]
  },
  {
   "cell_type": "code",
   "execution_count": 13,
   "metadata": {},
   "outputs": [
    {
     "name": "stdout",
     "output_type": "stream",
     "text": [
      "INFO:tensorflow:Saver not created because there are no variables in the graph to restore\n",
      "[[0.2237083  0.25768453 0.01786157 ... 0.         0.         1.7960036 ]]\n",
      "INFO:tensorflow:Saver not created because there are no variables in the graph to restore\n",
      "[[0.07062984 1.2454036  0.07813327 ... 0.03431292 0.         1.7377579 ]]\n",
      "INFO:tensorflow:Saver not created because there are no variables in the graph to restore\n",
      "[[0.02085521 2.5486994  0.03376503 ... 0.03128859 0.         2.338003  ]]\n",
      "INFO:tensorflow:Saver not created because there are no variables in the graph to restore\n",
      "[[0.20485464 2.2375073  0.08356599 ... 0.         0.         0.4202685 ]]\n",
      "INFO:tensorflow:Saver not created because there are no variables in the graph to restore\n",
      "[[1.06566146e-01 1.85887504e+00 1.30232245e-01 ... 1.94271049e-03\n",
      "  0.00000000e+00 2.40588522e+00]]\n",
      "INFO:tensorflow:Saver not created because there are no variables in the graph to restore\n",
      "[[0.50051457 0.13883674 0.00379818 ... 0.         0.11954534 0.51862186]]\n",
      "INFO:tensorflow:Saver not created because there are no variables in the graph to restore\n",
      "[[0.21438013 1.6212864  0.03835242 ... 0.         0.         1.4420831 ]]\n",
      "INFO:tensorflow:Saver not created because there are no variables in the graph to restore\n",
      "[[0.         1.3599823  0.05670781 ... 0.         0.         2.0218768 ]]\n",
      "INFO:tensorflow:Saver not created because there are no variables in the graph to restore\n",
      "[[7.5141119e-04 1.7261171e+00 1.7664897e-01 ... 0.0000000e+00\n",
      "  0.0000000e+00 2.4446063e+00]]\n",
      "INFO:tensorflow:Saver not created because there are no variables in the graph to restore\n",
      "[[0.12047546 0.59240526 0.0511566  ... 0.         0.         3.40135   ]]\n",
      "INFO:tensorflow:Saver not created because there are no variables in the graph to restore\n",
      "[[0.03889487 2.1977992  0.06268977 ... 0.         0.         1.146584  ]]\n",
      "INFO:tensorflow:Saver not created because there are no variables in the graph to restore\n",
      "[[0.         0.49079975 0.07595416 ... 0.         0.         3.9480948 ]]\n",
      "INFO:tensorflow:Saver not created because there are no variables in the graph to restore\n",
      "[[0.01423223 2.153986   0.         ... 0.         0.         2.5357416 ]]\n",
      "INFO:tensorflow:Saver not created because there are no variables in the graph to restore\n",
      "[[0.         1.0662795  0.04160322 ... 0.         0.01971111 1.6094491 ]]\n"
     ]
    }
   ],
   "source": [
    "filenames2 = get_filenames(HOME_PATH, 'p2')\n",
    "l2 = get_feature_vectores(filenames2)\n",
    "write_csv(filenames2, filePath_p2, l2)\n"
   ]
  },
  {
   "cell_type": "code",
   "execution_count": 14,
   "metadata": {},
   "outputs": [
    {
     "name": "stdout",
     "output_type": "stream",
     "text": [
      "INFO:tensorflow:Saver not created because there are no variables in the graph to restore\n",
      "[[0.         0.5345488  0.06196169 ... 0.24818933 0.         0.67460173]]\n",
      "INFO:tensorflow:Saver not created because there are no variables in the graph to restore\n",
      "[[0.0565029  1.2438847  0.         ... 0.16018504 0.         0.03805529]]\n",
      "INFO:tensorflow:Saver not created because there are no variables in the graph to restore\n",
      "[[0.00982726 0.72936815 0.         ... 0.28247747 0.16178168 0.2431399 ]]\n",
      "INFO:tensorflow:Saver not created because there are no variables in the graph to restore\n",
      "[[0.         0.8646836  0.00656845 ... 0.2956912  0.03991164 0.26214328]]\n",
      "INFO:tensorflow:Saver not created because there are no variables in the graph to restore\n",
      "[[0.         1.3389097  0.         ... 0.1287359  0.03660013 0.1326819 ]]\n",
      "INFO:tensorflow:Saver not created because there are no variables in the graph to restore\n",
      "[[0.02592772 1.5463068  0.         ... 0.04395444 0.2490677  0.1266307 ]]\n",
      "INFO:tensorflow:Saver not created because there are no variables in the graph to restore\n",
      "[[0.31256115 1.3666744  0.         ... 0.         0.04177155 0.21483159]]\n",
      "INFO:tensorflow:Saver not created because there are no variables in the graph to restore\n",
      "[[0.         0.6899179  0.01248025 ... 0.14437331 0.20561531 0.09378885]]\n",
      "INFO:tensorflow:Saver not created because there are no variables in the graph to restore\n",
      "[[0.         2.0641434  0.         ... 0.03291575 0.09504557 0.14725555]]\n",
      "INFO:tensorflow:Saver not created because there are no variables in the graph to restore\n",
      "[[0.         1.2382348  0.         ... 0.1323079  0.04819853 0.07674166]]\n",
      "INFO:tensorflow:Saver not created because there are no variables in the graph to restore\n",
      "[[0.02000479 2.2077873  0.         ... 0.         0.         0.20059578]]\n"
     ]
    }
   ],
   "source": [
    "filenames3 = get_filenames(HOME_PATH, 'p3')\n",
    "l3 = get_feature_vectores(filenames3)\n",
    "write_csv(filenames3, filePath_p3, l3)"
   ]
  },
  {
   "cell_type": "code",
   "execution_count": null,
   "metadata": {},
   "outputs": [],
   "source": []
  },
  {
   "cell_type": "code",
   "execution_count": null,
   "metadata": {},
   "outputs": [],
   "source": []
  },
  {
   "cell_type": "code",
   "execution_count": null,
   "metadata": {},
   "outputs": [],
   "source": []
  },
  {
   "cell_type": "code",
   "execution_count": null,
   "metadata": {},
   "outputs": [],
   "source": []
  },
  {
   "cell_type": "code",
   "execution_count": null,
   "metadata": {},
   "outputs": [],
   "source": []
  },
  {
   "cell_type": "code",
   "execution_count": 20,
   "metadata": {},
   "outputs": [],
   "source": [
    "def distance(l, i1, i2):\n",
    "    k = l.shape[2]\n",
    "    if not (i1<l.shape[0] and i2<l.shape[0]):\n",
    "        print \"i1/i2 out of index\"\n",
    "        return\n",
    "    summ = 0\n",
    "    for i in range(k):\n",
    "        f1=l[i1][0][i]\n",
    "        f2 = l[i2][0][i]\n",
    "        summ+=(f1-f2)*(f1-f2)\n",
    "    print summ\n",
    "    return summ"
   ]
  },
  {
   "cell_type": "code",
   "execution_count": 21,
   "metadata": {},
   "outputs": [
    {
     "name": "stdout",
     "output_type": "stream",
     "text": [
      "125.9558580212405\n",
      "96.1704821897959\n",
      "117.44519544001159\n",
      "100.05974253131492\n",
      "138.74868648843216\n",
      "136.36460001416677\n",
      "147.69973786401724\n",
      "105.23536071508472\n",
      "104.12863909199106\n",
      "110.22387624211729\n",
      "121.91980082561403\n",
      "146.0013900831051\n",
      "105.4774931283723\n",
      "117.97685073442616\n",
      "95.90381747604692\n",
      "167.5534861829784\n",
      "196.06092423175764\n",
      "108.85511437524003\n",
      "162.96492940685908\n",
      "149.836090398299\n",
      "109.50454856860222\n",
      "139.86653667875817\n",
      "173.01691210770232\n",
      "128.60831400254546\n",
      "118.15624626947803\n",
      "158.08487570701197\n",
      "131.87139266732908\n",
      "78.35771605801838\n",
      "97.43189886189663\n",
      "155.88070729902597\n",
      "107.78969307173338\n",
      "104.42109312548088\n",
      "150.08924663040239\n",
      "120.25120587577983\n",
      "83.69939016727723\n",
      "61.56088389685837\n",
      "167.40294858393867\n",
      "150.89075372186272\n",
      "134.31404008464295\n",
      "186.8451774598207\n",
      "188.29339141907465\n",
      "186.5024009964868\n",
      "132.6222154755676\n",
      "151.01990681854195\n",
      "114.54084507548595\n",
      "235.5453448050402\n",
      "224.40556270213253\n",
      "199.74935423730585\n",
      "260.6818106948216\n",
      "262.8681023736894\n",
      "272.42922197348594\n",
      "197.54490929177345\n",
      "199.6404031714765\n",
      "181.4355072920429\n",
      "78.67684098829523\n",
      "236.36555343922356\n",
      "178.81515141985807\n",
      "166.88391008331527\n",
      "226.4430712101555\n",
      "196.959346232341\n",
      "219.3702293399072\n",
      "152.19112660276662\n",
      "166.14447842150898\n",
      "155.43279395037445\n",
      "71.09498762021447\n",
      "74.26613322118932\n",
      "219.8082382378582\n",
      "231.79950429607175\n",
      "167.58404404897465\n",
      "267.7579637210719\n",
      "243.72755302566912\n",
      "248.04619418809952\n",
      "162.491520593833\n",
      "185.20329668217136\n",
      "152.41200896396785\n",
      "100.70442847627547\n",
      "81.70561357740793\n",
      "82.62883957146228\n",
      "174.47606522139768\n",
      "152.31899559227992\n",
      "139.93508574176542\n",
      "184.4316957713978\n",
      "195.55152128417535\n",
      "210.25895962974903\n",
      "157.2582703903139\n",
      "154.55102320503596\n",
      "135.13273001564667\n",
      "89.89479452025628\n",
      "97.83649454421939\n",
      "88.86704430749428\n",
      "109.2995084741809\n",
      "171.10105986078432\n",
      "161.91306810727338\n",
      "162.10511077497915\n",
      "188.046668784181\n",
      "204.59312608763366\n",
      "213.7693582458344\n",
      "182.46344886409153\n",
      "154.9274850837142\n",
      "158.21186917039446\n",
      "116.92733868421251\n",
      "161.1804778503759\n",
      "140.7881733787964\n",
      "154.4459630112786\n",
      "99.31794293985594\n"
     ]
    }
   ],
   "source": [
    "size = l1.shape[0]\n",
    "distances1 = []\n",
    "\n",
    "for i in range(size):\n",
    "    for j in range(i):\n",
    "        curr1 = distance(l1, i, j)\n",
    "        distances1.append(curr1)\n",
    "    \n"
   ]
  },
  {
   "cell_type": "code",
   "execution_count": 22,
   "metadata": {},
   "outputs": [
    {
     "data": {
      "text/plain": [
       "(105,)"
      ]
     },
     "execution_count": 22,
     "metadata": {},
     "output_type": "execute_result"
    }
   ],
   "source": [
    "distances1 = np.asarray(distances1)\n",
    "distances1.shape"
   ]
  },
  {
   "cell_type": "code",
   "execution_count": 25,
   "metadata": {},
   "outputs": [
    {
     "data": {
      "image/png": "[encoded data removed]",
      "text/plain": [
       "<Figure size 432x288 with 1 Axes>"
      ]
     },
     "metadata": {},
     "output_type": "display_data"
    }
   ],
   "source": [
    "import matplotlib.pyplot as plt\n",
    "import numpy as np\n",
    "%matplotlib inline\n",
    "x = distances1\n",
    "plt.hist(x, normed=True, bins=20)\n",
    "plt.ylabel('Probs');"
   ]
  },
  {
   "cell_type": "code",
   "execution_count": 26,
   "metadata": {},
   "outputs": [
    {
     "name": "stdout",
     "output_type": "stream",
     "text": [
      "309.36031777183234\n",
      "363.5607559175156\n",
      "117.57015282090578\n",
      "355.06565762149097\n",
      "140.87082751254013\n",
      "160.49190673107003\n",
      "288.1555503717992\n",
      "139.40481513389966\n",
      "229.1482864323751\n",
      "171.81829709220858\n",
      "114.55621921570473\n",
      "344.6816659613622\n",
      "386.89985001910054\n",
      "333.640618751249\n",
      "305.62803050434314\n",
      "292.1873662906943\n",
      "113.3299139444714\n",
      "171.04408799178398\n",
      "121.75683481349876\n",
      "106.35426711387557\n",
      "308.1345404655537\n",
      "362.47820114637847\n",
      "159.78903746627404\n",
      "141.88530908086193\n",
      "134.96609918690854\n",
      "209.5842239467864\n",
      "363.56058310979284\n",
      "130.90245904194788\n",
      "344.1379438202156\n",
      "113.64520968138692\n",
      "117.19785194621188\n",
      "129.94690224264738\n",
      "138.85547072706134\n",
      "364.8956981986574\n",
      "118.85170618180639\n",
      "109.62095472192365\n",
      "181.5768622535214\n",
      "252.52779778543137\n",
      "339.2147545451249\n",
      "357.6053105652823\n",
      "252.13098293534196\n",
      "214.69612611100072\n",
      "249.0316219804513\n",
      "383.3594565324477\n",
      "287.85823985820997\n",
      "405.11749269453344\n",
      "134.91081912452614\n",
      "152.01637337925766\n",
      "138.1847342074363\n",
      "229.8229453466087\n",
      "426.6753101198337\n",
      "110.83473956597743\n",
      "102.87481944564067\n",
      "106.21673864560006\n",
      "363.9320490257499\n",
      "184.38452140226082\n",
      "284.89956699195636\n",
      "344.908851417225\n",
      "398.3490292664736\n",
      "267.0269589008768\n",
      "258.2015397094342\n",
      "320.4175902829721\n",
      "392.7810915934161\n",
      "309.7396855939221\n",
      "119.71849234173489\n",
      "449.16136225549184\n",
      "423.38869287207\n",
      "158.08175189406546\n",
      "123.60794315403389\n",
      "139.15446440107186\n",
      "231.87934193131755\n",
      "441.29756431592983\n",
      "154.4677698921062\n",
      "80.15301685716064\n",
      "109.13262233833036\n",
      "420.6634566624325\n",
      "77.36623386351654\n",
      "451.8187120179125\n",
      "385.0629438846771\n",
      "146.3826367563526\n",
      "178.27616987628537\n",
      "139.7633843785696\n",
      "216.95526554890003\n",
      "418.8383845681404\n",
      "144.77332767166845\n",
      "141.63806292279918\n",
      "94.46835018752088\n",
      "360.46680863002086\n",
      "129.03460891370236\n",
      "388.32062350450934\n",
      "140.46257820420686\n"
     ]
    },
    {
     "data": {
      "text/plain": [
       "(91,)"
      ]
     },
     "execution_count": 26,
     "metadata": {},
     "output_type": "execute_result"
    }
   ],
   "source": [
    "size = l2.shape[0]\n",
    "distances2 = []\n",
    "\n",
    "for i in range(size):\n",
    "    for j in range(i):\n",
    "        curr1 = distance(l2, i, j)\n",
    "        distances2.append(curr1)\n",
    "distances2 = np.asarray(distances2)\n",
    "distances2.shape    "
   ]
  },
  {
   "cell_type": "code",
   "execution_count": 27,
   "metadata": {},
   "outputs": [
    {
     "data": {
      "image/png": "[encoded data removed]",
      "text/plain": [
       "<Figure size 432x288 with 1 Axes>"
      ]
     },
     "metadata": {},
     "output_type": "display_data"
    }
   ],
   "source": [
    "import matplotlib.pyplot as plt\n",
    "import numpy as np\n",
    "%matplotlib inline\n",
    "x = distances2\n",
    "plt.hist(x, normed=True, bins=20)\n",
    "plt.ylabel('Probs');"
   ]
  },
  {
   "cell_type": "code",
   "execution_count": 28,
   "metadata": {},
   "outputs": [
    {
     "name": "stdout",
     "output_type": "stream",
     "text": [
      "154.26416923715212\n",
      "184.80707935140595\n",
      "106.28577861358981\n",
      "113.8154857029407\n",
      "89.88604719582527\n",
      "67.58030788573421\n",
      "139.11603056090462\n",
      "156.01568190170227\n",
      "121.5252405840921\n",
      "68.19118912291563\n",
      "153.91188157940704\n",
      "171.04113122623667\n",
      "139.19572184448458\n",
      "103.58993533568518\n",
      "61.13067707021449\n",
      "227.72288327189682\n",
      "206.39319295643247\n",
      "165.6560637356859\n",
      "146.00041459683487\n",
      "138.20899623962367\n",
      "99.29916032768728\n",
      "217.07409007918264\n",
      "130.73148056543306\n",
      "112.99904847690634\n",
      "139.3248499404511\n",
      "188.66082103949876\n",
      "182.04856967148714\n",
      "205.18127881148467\n",
      "225.22582494626155\n",
      "240.4147513601707\n",
      "206.67039742365762\n",
      "193.8180284782771\n",
      "218.91437249156968\n",
      "153.7969761149578\n",
      "149.78991457613174\n",
      "265.42870104627127\n",
      "164.80935752545963\n",
      "133.19375467494177\n",
      "102.92837057807762\n",
      "109.17994792589175\n",
      "135.85988814033328\n",
      "102.92848933325135\n",
      "157.704730610262\n",
      "86.32346187236145\n",
      "188.179506045318\n",
      "188.0030838424209\n",
      "208.6858024295798\n",
      "179.24305586459556\n",
      "153.27611899452222\n",
      "137.6786079141282\n",
      "116.41646718143639\n",
      "130.49612175260623\n",
      "212.52602307863614\n",
      "155.38054353932145\n",
      "160.02594928115883\n"
     ]
    },
    {
     "data": {
      "text/plain": [
       "(91,)"
      ]
     },
     "execution_count": 28,
     "metadata": {},
     "output_type": "execute_result"
    }
   ],
   "source": [
    "size = l3.shape[0]\n",
    "distances3 = []\n",
    "\n",
    "for i in range(size):\n",
    "    for j in range(i):\n",
    "        curr1 = distance(l3, i, j)\n",
    "        distances3.append(curr1)\n",
    "distances3 = np.asarray(distances2)\n",
    "distances3.shape    "
   ]
  },
  {
   "cell_type": "code",
   "execution_count": 29,
   "metadata": {},
   "outputs": [
    {
     "data": {
      "image/png": "[encoded data removed]",
      "text/plain": [
       "<Figure size 432x288 with 1 Axes>"
      ]
     },
     "metadata": {},
     "output_type": "display_data"
    }
   ],
   "source": [
    "import matplotlib.pyplot as plt\n",
    "import numpy as np\n",
    "%matplotlib inline\n",
    "x = distances3\n",
    "plt.hist(x, normed=True, bins=20)\n",
    "plt.ylabel('Probs');"
   ]
  },
  {
   "cell_type": "code",
   "execution_count": null,
   "metadata": {},
   "outputs": [],
   "source": []
  },
  {
   "cell_type": "code",
   "execution_count": null,
   "metadata": {},
   "outputs": [],
   "source": []
  },
  {
   "cell_type": "code",
   "execution_count": null,
   "metadata": {},
   "outputs": [],
   "source": []
  },
  {
   "cell_type": "code",
   "execution_count": null,
   "metadata": {},
   "outputs": [],
   "source": []
  },
  {
   "cell_type": "code",
   "execution_count": null,
   "metadata": {},
   "outputs": [],
   "source": []
  }
 ],
 "metadata": {
  "kernelspec": {
   "display_name": "Python 2",
   "language": "python",
   "name": "python2"
  },
  "language_info": {
   "codemirror_mode": {
    "name": "ipython",
    "version": 2
   },
   "file_extension": ".py",
   "mimetype": "text/x-python",
   "name": "python",
   "nbconvert_exporter": "python",
   "pygments_lexer": "ipython2",
   "version": "2.7.13"
  }
 },
 "nbformat": 4,
 "nbformat_minor": 2
}
